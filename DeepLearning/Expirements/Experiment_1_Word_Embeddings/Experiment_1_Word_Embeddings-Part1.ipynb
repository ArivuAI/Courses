{
 "cells": [
  {
   "cell_type": "markdown",
   "id": "ac327283",
   "metadata": {},
   "source": [
    "# Word Embeddings: A Comprehensive Guide\n",
    "\n",
    "## Table of Contents\n",
    "\n",
    "1. Introduction to Word Embeddings  \n",
    "2. Why Word Embeddings?  \n",
    "3. Traditional Approaches vs Word Embeddings  \n",
    "4. Types of Word Embeddings  \n",
    "5. Word2Vec Deep Dive  \n",
    "6. GloVe (Global Vectors)  \n",
    "7. FastText  \n",
    "8. Implementing Word Embeddings  \n",
    "9. Evaluating Word Embeddings  \n",
    "10. Applications and Use Cases  \n",
    "11. Advanced Topics  \n",
    "12. Hands-on Exercises"
   ]
  },
  {
   "cell_type": "markdown",
   "id": "68fcc84f",
   "metadata": {},
   "source": [
    "## Introduction to Word Embeddings\n",
    "\n",
    "Word embeddings are a type of word representation that allows words to be represented as vectors in a continuous vector space. Unlike traditional one-hot encoding, which represents words as sparse vectors, word embeddings capture semantic relationships between words by placing similar words closer together in the vector space.\n",
    "\n",
    "These embeddings are learned from large text corpora and are widely used in natural language processing (NLP) tasks such as text classification, sentiment analysis, and machine translation. Popular word embedding techniques include Word2Vec, GloVe, and FastText.\n",
    "\n",
    "By using word embeddings, machine learning models can better understand the context and meaning of words, leading to improved performance on various NLP tasks."
   ]
  },
  {
   "cell_type": "code",
   "execution_count": 10,
   "id": "d4b5bdbb",
   "metadata": {},
   "outputs": [
    {
     "name": "stderr",
     "output_type": "stream",
     "text": [
      "[nltk_data] Downloading package punkt to\n",
      "[nltk_data]     /Users/pruthvirajv/nltk_data...\n",
      "[nltk_data]   Package punkt is already up-to-date!\n",
      "[nltk_data] Downloading package averaged_perceptron_tagger to\n",
      "[nltk_data]     /Users/pruthvirajv/nltk_data...\n",
      "[nltk_data]   Package averaged_perceptron_tagger is already up-to-\n",
      "[nltk_data]       date!\n"
     ]
    },
    {
     "data": {
      "text/plain": [
       "True"
      ]
     },
     "execution_count": 10,
     "metadata": {},
     "output_type": "execute_result"
    }
   ],
   "source": [
    "\n",
    "import numpy as np\n",
    "import pandas as pd\n",
    "import matplotlib.pyplot as plt\n",
    "import seaborn as sns\n",
    "from sklearn.manifold import TSNE\n",
    "from sklearn.decomposition import PCA\n",
    "import gensim\n",
    "from gensim.models import Word2Vec, KeyedVectors\n",
    "import nltk\n",
    "from nltk.tokenize import word_tokenize\n",
    "import warnings\n",
    "warnings.filterwarnings('ignore')\n",
    "\n",
    "# Download required NLTK data\n",
    "# 'punkt' is a pre-trained model in NLTK used for tokenizing text into sentences or words.\n",
    "# It provides the data required for nltk.tokenize.word_tokenize() and nltk.tokenize.sent_tokenize().\n",
    "nltk.download('punkt')\n",
    "# Download the NLTK averaged_perceptron_tagger model, which is required for part-of-speech tagging.\n",
    "# This model enables functions like nltk.pos_tag() to assign POS tags to tokens.\n",
    "nltk.download('averaged_perceptron_tagger')"
   ]
  },
  {
   "cell_type": "markdown",
   "id": "fa598c60",
   "metadata": {},
   "source": [
    "Word embeddings are dense vector representations of words that capture semantic and syntactic relationships between words in a continuous vector space."
   ]
  },
  {
   "cell_type": "code",
   "execution_count": 14,
   "id": "19ed1cdf",
   "metadata": {},
   "outputs": [
    {
     "name": "stdout",
     "output_type": "stream",
     "text": [
      "One-Hot Encoding:\n",
      "cat: [1, 0, 0, 0, 0]\n",
      "dog: [0, 1, 0, 0, 0]\n",
      "animal: [0, 0, 1, 0, 0]\n",
      "pet: [0, 0, 0, 1, 0]\n",
      "car: [0, 0, 0, 0, 1]\n",
      "\n",
      "Word Embeddings (2D):\n",
      "cat: [0.2, 0.8]\n",
      "dog: [0.3, 0.7]\n",
      "animal: [0.25, 0.75]\n",
      "pet: [0.28, 0.76]\n",
      "car: [0.9, 0.1]\n"
     ]
    },
    {
     "data": {
      "text/plain": [
       "Text(0.5, 1.0, 'Word Embeddings Visualization')"
      ]
     },
     "execution_count": 14,
     "metadata": {},
     "output_type": "execute_result"
    },
    {
     "data": {
      "image/png": "[encoded data removed]",
      "text/plain": [
       "<Figure size 800x600 with 1 Axes>"
      ]
     },
     "metadata": {},
     "output_type": "display_data"
    }
   ],
   "source": [
    "# Simple visualization of word embedding concept\n",
    "# Traditional One-Hot Encoding vs Word Embeddings\n",
    "\n",
    "vocabulary = ['cat', 'dog', 'animal', 'pet', 'car']\n",
    "\n",
    "# One-hot encoding\n",
    "# One-hot encoding is a way of representing categorical variables (such as words) as binary vectors.\n",
    "# Each word in the vocabulary is represented by a vector where only one element is '1' (indicating the presence of that word), and all other elements are '0'.\n",
    "# This results in high-dimensional, sparse vectors that do not capture any semantic similarity between words.\n",
    "one_hot = {\n",
    "    'cat':    [1, 0, 0, 0, 0],\n",
    "    'dog':    [0, 1, 0, 0, 0],\n",
    "    'animal': [0, 0, 1, 0, 0],\n",
    "    'pet':    [0, 0, 0, 1, 0],\n",
    "    'car':    [0, 0, 0, 0, 1]\n",
    "}\n",
    "\n",
    "# Hypothetical word embeddings (2D for visualization)\n",
    "embeddings = {\n",
    "    'cat':    [0.2, 0.8],\n",
    "    'dog':    [0.3, 0.7],\n",
    "    'animal': [0.25, 0.75],\n",
    "    'pet':    [0.28, 0.76],\n",
    "    'car':    [0.9, 0.1]\n",
    "}\n",
    "\n",
    "print(\"One-Hot Encoding:\")\n",
    "for word, vec in one_hot.items():\n",
    "    print(f\"{word}: {vec}\")\n",
    "\n",
    "print(\"\\nWord Embeddings (2D):\")\n",
    "for word, vec in embeddings.items():\n",
    "    print(f\"{word}: {vec}\")\n",
    "\n",
    "# Plotting the embeddings\n",
    "plt.figure(figsize=(8, 6))\n",
    "for word, vec in embeddings.items():\n",
    "    plt.scatter(vec[0], vec[1])\n",
    "    plt.text(vec[0]+0.01, vec[1]+0.01, word, fontsize=12)\n",
    "plt.title(\"Word Embeddings Visualization\")"
   ]
  },
  {
   "cell_type": "markdown",
   "id": "b0933436",
   "metadata": {},
   "source": [
    "\n",
    "## 2. Why Word Embeddings?\n",
    "\n",
    "### Problems with Traditional Approaches\n",
    "\n",
    "Traditional approaches like one-hot encoding represent words as high-dimensional, sparse vectors where each word is independent and equidistant from others. This method fails to capture semantic relationships between words, making it difficult for models to understand context or similarity. As a result, tasks such as measuring word similarity or analogy become challenging, and the representation does not scale well with large vocabularies.\n",
    "\n",
    "Word embeddings address these limitations by representing words as dense, low-dimensional vectors that encode semantic and syntactic relationships, allowing models to better understand language and context.\n"
   ]
  },
  {
   "cell_type": "code",
   "execution_count": null,
   "id": "8ff1acf7",
   "metadata": {},
   "outputs": [
    {
     "name": "stdout",
     "output_type": "stream",
     "text": [
      "One-Hot Encoding Similarities:\n",
      "Similarity(cat, dog): 0.0\n",
      "Similarity(cat, pet): 0.0\n",
      "\n",
      "Word Embedding Similarities:\n",
      "Similarity(cat, dog): 0.99\n",
      "Similarity(cat, pet): 0.99\n",
      "Similarity(cat, car): 0.35\n"
     ]
    }
   ],
   "source": [
    "# The L2 norm (also known as the Euclidean norm) of a vector is a measure of its length (magnitude) in Euclidean space.\n",
    "# It is calculated as the square root of the sum of the squared vector elements.\n",
    "# For a vector v = [v1, v2, ..., vn], the L2 norm is sqrt(v1^2 + v2^2 + ... + vn^2).\n",
    "\n",
    "# Cosine similarity is a measure of similarity between two non-zero vectors.\n",
    "# It calculates the cosine of the angle between the vectors, giving a value between -1 and 1.\n",
    "# A value of 1 means the vectors are identical in direction, 0 means they are orthogonal (no similarity), and -1 means they are diametrically opposed.\n",
    "# In the context of word embeddings, cosine similarity is commonly used to measure how similar two word vectors are in the embedding space.\n",
    "\n",
    "\n",
    "def calculate_similarity(vec1, vec2):\n",
    "    \"\"\"Calculate cosine similarity between two vectors\"\"\"\n",
    "    dot_product = np.dot(vec1, vec2)           # Compute the dot product of the two vectors\n",
    "    norm_a = np.linalg.norm(vec1)              # Compute the L2 norm (magnitude) of the first vector\n",
    "    norm_b = np.linalg.norm(vec2)              # Compute the L2 norm (magnitude) of the second vector\n",
    "    return dot_product / (norm_a * norm_b)     # Return the cosine similarity (dot product divided by product of norms)\n",
    "\n",
    "# One-hot similarity\n",
    "print(\"One-Hot Encoding Similarities:\")\n",
    "print(f\"Similarity(cat, dog): {calculate_similarity(one_hot['cat'], one_hot['dog'])}\")\n",
    "print(f\"Similarity(cat, pet): {calculate_similarity(one_hot['cat'], one_hot['pet'])}\")\n",
    "\n",
    "# Embedding similarity\n",
    "print(\"\\nWord Embedding Similarities:\")\n",
    "print(f\"Similarity(cat, dog): {calculate_similarity(embeddings['cat'], embeddings['dog']):.2f}\")\n",
    "print(f\"Similarity(cat, pet): {calculate_similarity(embeddings['cat'], embeddings['pet']):.2f}\")\n",
    "print(f\"Similarity(cat, car): {calculate_similarity(embeddings['cat'], embeddings['car']):.2f}\")"
   ]
  },
  {
   "cell_type": "markdown",
   "id": "622e227d",
   "metadata": {},
   "source": [
    "\n",
    "### Advantages of Word Embeddings\n",
    "\n",
    "- **Dimensionality Reduction:** Transform sparse, high-dimensional representations into dense, low-dimensional vectors.\n",
    "- **Semantic Relationships:** Capture semantic similarity—similar words have similar vector representations.\n",
    "- **Mathematical Operations:** Enable meaningful vector arithmetic (e.g., \"king\" - \"man\" + \"woman\" ≈ \"queen\").\n",
    "- **Transfer Learning:** Allow the use of pre-trained embeddings across different NLP tasks, improving performance and reducing training time.\n"
   ]
  },
  {
   "cell_type": "markdown",
   "id": "f6d6e166",
   "metadata": {},
   "source": [
    "## 3. Traditional Approaches vs Word Embeddings"
   ]
  },
  {
   "cell_type": "code",
   "execution_count": 16,
   "id": "f984ce47",
   "metadata": {},
   "outputs": [
    {
     "data": {
      "image/png": "[encoded data removed]",
      "text/plain": [
       "<Figure size 1200x500 with 2 Axes>"
      ]
     },
     "metadata": {},
     "output_type": "display_data"
    }
   ],
   "source": [
    "\n",
    "fig, axes = plt.subplots(1, 2, figsize=(12, 5))\n",
    "\n",
    "# One-hot visualization\n",
    "axes[0].imshow(list(one_hot.values()), cmap='binary', aspect='auto')\n",
    "axes[0].set_yticks(range(len(vocabulary)))\n",
    "axes[0].set_yticklabels(vocabulary)\n",
    "axes[0].set_title('One-Hot Encoding')\n",
    "axes[0].set_xlabel('Feature Dimensions')\n",
    "\n",
    "# Embedding visualization\n",
    "axes[1].scatter(*zip(*embeddings.values()))\n",
    "for word, (x, y) in embeddings.items():\n",
    "    axes[1].annotate(word, (x, y))\n",
    "axes[1].set_title('Word Embeddings (2D)')\n",
    "axes[1].set_xlabel('Dimension 1')\n",
    "axes[1].set_ylabel('Dimension 2')\n",
    "\n",
    "plt.tight_layout()\n",
    "plt.show()"
   ]
  },
  {
   "cell_type": "markdown",
   "id": "c1f8f007",
   "metadata": {},
   "source": [
    "## 4. Types of Word Embeddings"
   ]
  },
  {
   "cell_type": "markdown",
   "id": "212c882c",
   "metadata": {},
   "source": [
    "**Frequency-based:**\n",
    "- Count Vector\n",
    "- TF-IDF\n",
    "- Co-occurrence Matrix\n",
    "\n",
    "**Prediction-based:**\n",
    "- Word2Vec (CBOW, Skip-gram)\n",
    "- FastText\n",
    "- GloVe\n",
    "\n",
    "**Contextual:**\n",
    "- ELMo\n",
    "- BERT\n",
    "- GPT\n",
    "- RoBERTa"
   ]
  },
  {
   "cell_type": "markdown",
   "id": "044de548",
   "metadata": {},
   "source": [
    "## 5. Word2Vec Deep Dive\n",
    "\n",
    "**Word2Vec** is a popular prediction-based word embedding technique with two main architectures:\n",
    "\n",
    "- **CBOW (Continuous Bag of Words):** Predicts the target word based on its surrounding context words.\n",
    "- **Skip-gram:** Predicts the surrounding context words given a target word.\n",
    "\n",
    "Both architectures learn word representations that capture semantic relationships by leveraging large text corpora."
   ]
  },
  {
   "cell_type": "code",
   "execution_count": 25,
   "id": "89eb64f3",
   "metadata": {},
   "outputs": [
    {
     "name": "stdout",
     "output_type": "stream",
     "text": [
      "CBOW vector for 'cat' (first 10 dimensions):\n",
      "[-0.01734416  0.0072155   0.01023568  0.01167333  0.01485409 -0.01243847\n",
      "  0.00245041  0.01235767 -0.00597952 -0.01242316]\n",
      "\n",
      "Skip-gram vector for 'cat' (first 10 dimensions):\n",
      "[-0.0174201   0.00720078  0.01028644  0.01176958  0.01486053 -0.0124971\n",
      "  0.00246213  0.01238158 -0.00601684 -0.012473  ]\n"
     ]
    }
   ],
   "source": [
    "\n",
    "# Sample corpus\n",
    "corpus = [\n",
    "    \"the cat sat on the mat\",\n",
    "    \"the dog played in the park\",\n",
    "    \"cats and dogs are pets\",\n",
    "    \"the cat and dog are friends\",\n",
    "    \"animals need food and water\"\n",
    "]\n",
    "\n",
    "# The corpus is a collection of example sentences used to train the Word2Vec models.\n",
    "# Training on this corpus allows the models to learn word relationships and generate vector representations for each word based on their context.\n",
    "\n",
    "# Tokenize\n",
    "tokenized_corpus = [sentence.split() for sentence in corpus]\n",
    "\n",
    "# Train Word2Vec model\n",
    "model_cbow = Word2Vec(\n",
    "    tokenized_corpus,      # List of tokenized sentences (corpus)\n",
    "    vector_size=50,        # Dimensionality of the word vectors\n",
    "    window=3,              # Maximum distance between the current and predicted word within a sentence\n",
    "    min_count=1,           # Ignores all words with total frequency lower than this\n",
    "    sg=0,                  # Training algorithm: 0 for CBOW, 1 for Skip-gram\n",
    "    epochs=100             # Number of iterations (epochs) over the corpus\n",
    ")\n",
    "\n",
    "model_skipgram = Word2Vec(\n",
    "    tokenized_corpus,      # List of tokenized sentences (corpus)\n",
    "    vector_size=50,        # Dimensionality of the word vectors\n",
    "    window=3,              # Maximum distance between the current and predicted word within a sentence\n",
    "    min_count=1,           # Ignores all words with total frequency lower than this\n",
    "    sg=1,                  # Training algorithm: 0 for CBOW, 1 for Skip-gram\n",
    "    epochs=100             # Number of iterations (epochs) over the corpus\n",
    ")\n",
    "\n",
    "# Get word vectors\n",
    "word = 'cat'\n",
    "vector_cbow = model_cbow.wv[word]\n",
    "vector_skipgram = model_skipgram.wv[word]\n",
    "\n",
    "print(f\"CBOW vector for '{word}' (first 10 dimensions):\")\n",
    "print(vector_cbow[:10])\n",
    "print(f\"\\nSkip-gram vector for '{word}' (first 10 dimensions):\")\n",
    "print(vector_skipgram[:10])"
   ]
  },
  {
   "cell_type": "markdown",
   "id": "30d36a49",
   "metadata": {},
   "source": [
    "Word2Vec models can be pre-trained or trained from scratch. When you provide a vector of sentences (a corpus), you are training a new Word2Vec model on your specific data. This allows the model to learn word relationships and context relevant to your domain or dataset.\n",
    "\n",
    "Pre-trained Word2Vec models (like Google News vectors) are trained on large, general corpora and can be used directly if they fit your needs. However, training on your own sentences helps the model capture domain-specific meanings and vocabulary that may not be present in general pre-trained models.\n",
    "\n",
    "In summary:\n",
    "- **Provide sentences:** To train a custom Word2Vec model for your data.\n",
    "- **Use pre-trained model:** If you want general-purpose embeddings without additional training.\n",
    "\n",
    "**Can i use word2vec to print the vector of the cat without training as above**\n",
    "No, you cannot obtain the vector for \"cat\" using Word2Vec without either training a model on your own corpus or loading a pre-trained model that already contains the word \"cat\". Word2Vec requires a trained model to generate word vectors. If you do not train on your data, you must load a pre-trained model (such as Google News vectors) and then access the vector for \"cat\" if it exists in the vocabulary."
   ]
  },
  {
   "cell_type": "code",
   "execution_count": 21,
   "id": "d6677cb2",
   "metadata": {},
   "outputs": [
    {
     "name": "stdout",
     "output_type": "stream",
     "text": [
      "Most similar to 'cat' (CBOW):\n",
      "  cats: 0.204\n",
      "  dog: 0.173\n",
      "  park: 0.165\n"
     ]
    }
   ],
   "source": [
    "\n",
    "# Find similar words\n",
    "print(\"Most similar to 'cat' (CBOW):\")\n",
    "for word, similarity in model_cbow.wv.most_similar('cat', topn=3):\n",
    "    print(f\"  {word}: {similarity:.3f}\")\n",
    "\n",
    "# Word arithmetic (if we had a larger corpus)\n",
    "# Example: king - man + woman = queen\n",
    "# This would work better with pre-trained embeddings"
   ]
  },
  {
   "cell_type": "markdown",
   "id": "64ef37ea",
   "metadata": {},
   "source": [
    "\n",
    "\n",
    "## 6. GloVe (Global Vectors)\n",
    "Understanding GloVe\n",
    "GloVe combines the advantages of global matrix factorization and local context window methods."
   ]
  },
  {
   "cell_type": "code",
   "execution_count": 22,
   "id": "d339ea0c",
   "metadata": {},
   "outputs": [],
   "source": [
    "\n",
    "def load_glove_embeddings(file_path):\n",
    "    \"\"\"\n",
    "    Load GloVe embeddings from file\n",
    "    Download from: https://nlp.stanford.edu/projects/glove/\n",
    "    \"\"\"\n",
    "    embeddings = {}\n",
    "    with open(file_path, 'r', encoding='utf-8') as f:\n",
    "        for line in f:\n",
    "            values = line.split()\n",
    "            word = values[0]\n",
    "            vector = np.asarray(values[1:], dtype='float32')\n",
    "            embeddings[word] = vector\n",
    "    return embeddings\n",
    "\n",
    "# Example usage (requires downloaded GloVe file)\n",
    "# glove_embeddings = load_glove_embeddings('glove.6B.100d.txt')"
   ]
  },
  {
   "cell_type": "markdown",
   "id": "a4341f6e",
   "metadata": {},
   "source": [
    "\n",
    "## 7. FastText\n",
    "Subword Information\n",
    "FastText extends Word2Vec by using character n-grams"
   ]
  },
  {
   "cell_type": "code",
   "execution_count": null,
   "id": "447c0849",
   "metadata": {},
   "outputs": [],
   "source": [
    "# Cell 10: Custom embedding layer implementation\n",
    "class SimpleEmbedding:\n",
    "    def __init__(self, vocab_size, embedding_dim):\n",
    "        self.vocab_size = vocab_size\n",
    "        self.embedding_dim = embedding_dim\n",
    "        # Initialize with random weights\n",
    "        self.embedding_matrix = np.random.randn(vocab_size, embedding_dim) * 0.01\n",
    "        \n",
    "    def get_embedding(self, word_idx):\n",
    "        return self.embedding_matrix[word_idx]\n",
    "    \n",
    "    def update_embedding(self, word_idx, gradient, learning_rate=0.01):\n",
    "        self.embedding_matrix[word_idx] -= learning_rate * gradient\n",
    "\n",
    "# Create vocabulary mapping\n",
    "vocab = {word: idx for idx, word in enumerate(set(' '.join(corpus).split()))}\n",
    "embedding_layer = SimpleEmbedding(len(vocab), 10)\n",
    "\n",
    "# Get embedding for a word\n",
    "word_embedding = embedding_layer.get_embedding(vocab['cat'])\n",
    "print(f\"Embedding for 'cat': {word_embedding}\")"
   ]
  },
  {
   "cell_type": "markdown",
   "id": "23765f0c",
   "metadata": {},
   "source": [
    "## 8. Implementing Word Embeddings\n",
    "Building a Simple Embedding Layer"
   ]
  },
  {
   "cell_type": "code",
   "execution_count": null,
   "id": "fe6cca85",
   "metadata": {},
   "outputs": [
    {
     "name": "stdout",
     "output_type": "stream",
     "text": [
      "Corpus:\n",
      " - the cat sat on the mat\n",
      " - the dog played in the park\n",
      " - cats and dogs are pets\n",
      " - the cat and dog are friends\n",
      " - animals need food and water\n",
      "Tokenized Corpus:\n",
      " - park\n",
      " - played\n",
      " - and\n",
      " - mat\n",
      " - the\n",
      " - water\n",
      " - dogs\n",
      " - in\n",
      " - cat\n",
      " - dog\n",
      " - pets\n",
      " - need\n",
      " - cats\n",
      " - animals\n",
      " - food\n",
      " - sat\n",
      " - are\n",
      " - friends\n",
      " - on\n",
      "Vocabulary mapping: {'park': 0, 'played': 1, 'and': 2, 'mat': 3, 'the': 4, 'water': 5, 'dogs': 6, 'in': 7, 'cat': 8, 'dog': 9, 'pets': 10, 'need': 11, 'cats': 12, 'animals': 13, 'food': 14, 'sat': 15, 'are': 16, 'friends': 17, 'on': 18}\n",
      "Embedding for 'cat': [-0.00263489 -0.0002818   0.00554726 -0.00159802 -0.00580368  0.01027889\n",
      " -0.01418332 -0.01388923  0.00897119  0.01810448]\n"
     ]
    }
   ],
   "source": [
    "\n",
    "class SimpleEmbedding:\n",
    "    def __init__(self, vocab_size, embedding_dim):\n",
    "        self.vocab_size = vocab_size\n",
    "        self.embedding_dim = embedding_dim\n",
    "        # Initialize with random weights\n",
    "        # Initialize the embedding matrix with small random values.\n",
    "        # Multiplying by 0.01 ensures the initial weights are close to zero, which helps with stable and efficient training.\n",
    "        self.embedding_matrix = np.random.randn(vocab_size, embedding_dim) * 0.01\n",
    "        \n",
    "    def get_embedding(self, word_idx):\n",
    "        return self.embedding_matrix[word_idx]\n",
    "    \n",
    "    def update_embedding(self, word_idx, gradient, learning_rate=0.01):\n",
    "        self.embedding_matrix[word_idx] -= learning_rate * gradient\n",
    "\n",
    "# Corpus\n",
    "print(\"Corpus:\")\n",
    "for sentence in corpus:\n",
    "    print(f\" - {sentence}\")\n",
    "\n",
    "# Tokenize\n",
    "tokenized_corpus = set(' '.join(corpus).split())\n",
    "print(\"Tokenized Corpus:\")\n",
    "for tokens in tokenized_corpus:\n",
    "    print(f\" - {tokens}\")\n",
    "\n",
    "# Create vocabulary mapping\n",
    "vocab = {word: idx for idx, word in enumerate(set(' '.join(corpus).split()))}\n",
    "print(\"Vocabulary mapping:\", vocab )\n",
    "embedding_layer = SimpleEmbedding(len(vocab), 10)\n",
    "\n",
    "# Get embedding for a word\n",
    "word_embedding = embedding_layer.get_embedding(vocab['cat'])\n",
    "print(f\"Embedding for 'cat': {word_embedding}\")"
   ]
  },
  {
   "cell_type": "markdown",
   "id": "7b8dfb79",
   "metadata": {},
   "source": [
    "## 9. Evaluating Word Embeddings\n",
    "Intrinsic Evaluation"
   ]
  },
  {
   "cell_type": "code",
   "execution_count": 23,
   "id": "576e288e",
   "metadata": {},
   "outputs": [],
   "source": [
    "# Cell 11: Evaluation metrics\n",
    "def evaluate_word_similarity(model, word_pairs):\n",
    "    \"\"\"Evaluate embeddings using word similarity tasks\"\"\"\n",
    "    correlations = []\n",
    "    for word1, word2, human_score in word_pairs:\n",
    "        if word1 in model.wv and word2 in model.wv:\n",
    "            model_score = model.wv.similarity(word1, word2)\n",
    "            correlations.append((human_score, model_score))\n",
    "    return correlations\n",
    "\n",
    "# Example word pairs with human similarity scores (0-1)\n",
    "test_pairs = [\n",
    "    ('cat', 'dog', 0.8),\n",
    "    ('cat', 'pet', 0.7),\n",
    "    ('cat', 'the', 0.1),\n",
    "]\n",
    "\n",
    "# Evaluate (would need more data for meaningful results)\n",
    "# correlations = evaluate_word_similarity(model_cbow, test_pairs)"
   ]
  },
  {
   "cell_type": "code",
   "execution_count": 29,
   "id": "3d354583",
   "metadata": {},
   "outputs": [
    {
     "data": {
      "image/png": "[encoded data removed]",
      "text/plain": [
       "<Figure size 1000x800 with 1 Axes>"
      ]
     },
     "metadata": {},
     "output_type": "display_data"
    }
   ],
   "source": [
    "# Visualizing word embeddings using t-SNE\n",
    "def plot_embeddings(model, words=None):\n",
    "    if words is None:\n",
    "        words = list(model.wv.index_to_key)[:20]  # Plot first 20 words\n",
    "    \n",
    "    word_vectors = np.array([model.wv[word] for word in words if word in model.wv])\n",
    "    \n",
    "    # Reduce dimensions using t-SNE\n",
    "    # t-SNE (t-distributed Stochastic Neighbor Embedding) is a dimensionality reduction technique.\n",
    "    # It is particularly well-suited for visualizing high-dimensional data by mapping it to 2 or 3 dimensions.\n",
    "    # t-SNE preserves the local structure of the data, making it useful for visualizing word embeddings.\n",
    "    tsne = TSNE(n_components=2, random_state=42, perplexity=5)\n",
    "    embeddings_2d = tsne.fit_transform(word_vectors)\n",
    "    plt.figure(figsize=(10, 8))\n",
    "    plt.scatter(embeddings_2d[:, 0], embeddings_2d[:, 1])\n",
    "    \n",
    "    for i, word in enumerate(words):\n",
    "        if word in model.wv:\n",
    "            plt.annotate(word, xy=(embeddings_2d[i, 0], embeddings_2d[i, 1]))\n",
    "    \n",
    "    plt.title('Word Embeddings Visualization (t-SNE)')\n",
    "    plt.xlabel('Dimension 1')\n",
    "    plt.ylabel('Dimension 2')\n",
    "    plt.grid(True, alpha=0.3)\n",
    "    plt.show()\n",
    "\n",
    "plot_embeddings(model_cbow)"
   ]
  }
 ],
 "metadata": {
  "kernelspec": {
   "display_name": "module1_dl_env",
   "language": "python",
   "name": "python3"
  },
  "language_info": {
   "codemirror_mode": {
    "name": "ipython",
    "version": 3
   },
   "file_extension": ".py",
   "mimetype": "text/x-python",
   "name": "python",
   "nbconvert_exporter": "python",
   "pygments_lexer": "ipython3",
   "version": "3.12.11"
  }
 },
 "nbformat": 4,
 "nbformat_minor": 5
}
